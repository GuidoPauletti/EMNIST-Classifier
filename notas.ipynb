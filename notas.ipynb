{
 "cells": [
  {
   "cell_type": "code",
   "execution_count": 1,
   "metadata": {},
   "outputs": [],
   "source": [
    "import pandas as pd\n",
    "import numpy as np\n",
    "import matplotlib.pyplot as plt\n",
    "from sklearn.model_selection import train_test_split, KFold\n",
    "from sklearn.neighbors import KNeighborsClassifier\n",
    "from sklearn import metrics, tree\n",
    "import seaborn as sns"
   ]
  },
  {
   "cell_type": "markdown",
   "metadata": {},
   "source": [
    "<h1>Importación de datos</h1>"
   ]
  },
  {
   "cell_type": "code",
   "execution_count": 2,
   "metadata": {},
   "outputs": [],
   "source": [
    "df = pd.read_csv(\"emnist_letters_tp.csv\", header=None)"
   ]
  },
  {
   "cell_type": "code",
   "execution_count": 3,
   "metadata": {},
   "outputs": [
    {
     "data": {
      "text/html": [
       "<div>\n",
       "<style scoped>\n",
       "    .dataframe tbody tr th:only-of-type {\n",
       "        vertical-align: middle;\n",
       "    }\n",
       "\n",
       "    .dataframe tbody tr th {\n",
       "        vertical-align: top;\n",
       "    }\n",
       "\n",
       "    .dataframe thead th {\n",
       "        text-align: right;\n",
       "    }\n",
       "</style>\n",
       "<table border=\"1\" class=\"dataframe\">\n",
       "  <thead>\n",
       "    <tr style=\"text-align: right;\">\n",
       "      <th></th>\n",
       "      <th>0</th>\n",
       "      <th>1</th>\n",
       "      <th>2</th>\n",
       "      <th>3</th>\n",
       "      <th>4</th>\n",
       "      <th>5</th>\n",
       "      <th>6</th>\n",
       "      <th>7</th>\n",
       "      <th>8</th>\n",
       "      <th>9</th>\n",
       "      <th>...</th>\n",
       "      <th>775</th>\n",
       "      <th>776</th>\n",
       "      <th>777</th>\n",
       "      <th>778</th>\n",
       "      <th>779</th>\n",
       "      <th>780</th>\n",
       "      <th>781</th>\n",
       "      <th>782</th>\n",
       "      <th>783</th>\n",
       "      <th>784</th>\n",
       "    </tr>\n",
       "  </thead>\n",
       "  <tbody>\n",
       "    <tr>\n",
       "      <th>0</th>\n",
       "      <td>F</td>\n",
       "      <td>0</td>\n",
       "      <td>0</td>\n",
       "      <td>0</td>\n",
       "      <td>0</td>\n",
       "      <td>0</td>\n",
       "      <td>0</td>\n",
       "      <td>0</td>\n",
       "      <td>0</td>\n",
       "      <td>0</td>\n",
       "      <td>...</td>\n",
       "      <td>0</td>\n",
       "      <td>0</td>\n",
       "      <td>0</td>\n",
       "      <td>0</td>\n",
       "      <td>0</td>\n",
       "      <td>0</td>\n",
       "      <td>0</td>\n",
       "      <td>0</td>\n",
       "      <td>0</td>\n",
       "      <td>0</td>\n",
       "    </tr>\n",
       "    <tr>\n",
       "      <th>1</th>\n",
       "      <td>Q</td>\n",
       "      <td>0</td>\n",
       "      <td>0</td>\n",
       "      <td>0</td>\n",
       "      <td>0</td>\n",
       "      <td>0</td>\n",
       "      <td>0</td>\n",
       "      <td>0</td>\n",
       "      <td>0</td>\n",
       "      <td>0</td>\n",
       "      <td>...</td>\n",
       "      <td>0</td>\n",
       "      <td>0</td>\n",
       "      <td>0</td>\n",
       "      <td>0</td>\n",
       "      <td>0</td>\n",
       "      <td>0</td>\n",
       "      <td>0</td>\n",
       "      <td>0</td>\n",
       "      <td>0</td>\n",
       "      <td>0</td>\n",
       "    </tr>\n",
       "    <tr>\n",
       "      <th>2</th>\n",
       "      <td>W</td>\n",
       "      <td>0</td>\n",
       "      <td>0</td>\n",
       "      <td>0</td>\n",
       "      <td>0</td>\n",
       "      <td>0</td>\n",
       "      <td>0</td>\n",
       "      <td>0</td>\n",
       "      <td>0</td>\n",
       "      <td>0</td>\n",
       "      <td>...</td>\n",
       "      <td>0</td>\n",
       "      <td>0</td>\n",
       "      <td>0</td>\n",
       "      <td>0</td>\n",
       "      <td>0</td>\n",
       "      <td>0</td>\n",
       "      <td>0</td>\n",
       "      <td>0</td>\n",
       "      <td>0</td>\n",
       "      <td>0</td>\n",
       "    </tr>\n",
       "    <tr>\n",
       "      <th>3</th>\n",
       "      <td>K</td>\n",
       "      <td>0</td>\n",
       "      <td>0</td>\n",
       "      <td>0</td>\n",
       "      <td>0</td>\n",
       "      <td>0</td>\n",
       "      <td>0</td>\n",
       "      <td>0</td>\n",
       "      <td>0</td>\n",
       "      <td>0</td>\n",
       "      <td>...</td>\n",
       "      <td>0</td>\n",
       "      <td>0</td>\n",
       "      <td>0</td>\n",
       "      <td>0</td>\n",
       "      <td>0</td>\n",
       "      <td>0</td>\n",
       "      <td>0</td>\n",
       "      <td>0</td>\n",
       "      <td>0</td>\n",
       "      <td>0</td>\n",
       "    </tr>\n",
       "    <tr>\n",
       "      <th>4</th>\n",
       "      <td>F</td>\n",
       "      <td>0</td>\n",
       "      <td>0</td>\n",
       "      <td>0</td>\n",
       "      <td>0</td>\n",
       "      <td>0</td>\n",
       "      <td>0</td>\n",
       "      <td>0</td>\n",
       "      <td>0</td>\n",
       "      <td>0</td>\n",
       "      <td>...</td>\n",
       "      <td>0</td>\n",
       "      <td>0</td>\n",
       "      <td>0</td>\n",
       "      <td>0</td>\n",
       "      <td>0</td>\n",
       "      <td>0</td>\n",
       "      <td>0</td>\n",
       "      <td>0</td>\n",
       "      <td>0</td>\n",
       "      <td>0</td>\n",
       "    </tr>\n",
       "  </tbody>\n",
       "</table>\n",
       "<p>5 rows × 785 columns</p>\n",
       "</div>"
      ],
      "text/plain": [
       "  0    1    2    3    4    5    6    7    8    9    ...  775  776  777  778  \\\n",
       "0   F    0    0    0    0    0    0    0    0    0  ...    0    0    0    0   \n",
       "1   Q    0    0    0    0    0    0    0    0    0  ...    0    0    0    0   \n",
       "2   W    0    0    0    0    0    0    0    0    0  ...    0    0    0    0   \n",
       "3   K    0    0    0    0    0    0    0    0    0  ...    0    0    0    0   \n",
       "4   F    0    0    0    0    0    0    0    0    0  ...    0    0    0    0   \n",
       "\n",
       "   779  780  781  782  783  784  \n",
       "0    0    0    0    0    0    0  \n",
       "1    0    0    0    0    0    0  \n",
       "2    0    0    0    0    0    0  \n",
       "3    0    0    0    0    0    0  \n",
       "4    0    0    0    0    0    0  \n",
       "\n",
       "[5 rows x 785 columns]"
      ]
     },
     "execution_count": 3,
     "metadata": {},
     "output_type": "execute_result"
    }
   ],
   "source": [
    "df.head()"
   ]
  },
  {
   "cell_type": "markdown",
   "metadata": {},
   "source": [
    "<h1>Analisis exploratorio de datos</h1>"
   ]
  },
  {
   "cell_type": "code",
   "execution_count": 4,
   "metadata": {},
   "outputs": [
    {
     "name": "stdout",
     "output_type": "stream",
     "text": [
      "<class 'pandas.core.frame.DataFrame'>\n",
      "RangeIndex: 62400 entries, 0 to 62399\n",
      "Columns: 785 entries, 0 to 784\n",
      "dtypes: int64(784), object(1)\n",
      "memory usage: 373.7+ MB\n"
     ]
    }
   ],
   "source": [
    "df.info()"
   ]
  },
  {
   "cell_type": "code",
   "execution_count": 5,
   "metadata": {},
   "outputs": [
    {
     "data": {
      "text/plain": [
       "26"
      ]
     },
     "execution_count": 5,
     "metadata": {},
     "output_type": "execute_result"
    }
   ],
   "source": [
    "df[0].nunique()"
   ]
  },
  {
   "cell_type": "code",
   "execution_count": 6,
   "metadata": {},
   "outputs": [
    {
     "data": {
      "text/plain": [
       "0\n",
       "F    2400\n",
       "Q    2400\n",
       "I    2400\n",
       "B    2400\n",
       "X    2400\n",
       "R    2400\n",
       "A    2400\n",
       "G    2400\n",
       "V    2400\n",
       "U    2400\n",
       "Y    2400\n",
       "M    2400\n",
       "N    2400\n",
       "S    2400\n",
       "Z    2400\n",
       "P    2400\n",
       "T    2400\n",
       "J    2400\n",
       "E    2400\n",
       "H    2400\n",
       "C    2400\n",
       "O    2400\n",
       "D    2400\n",
       "K    2400\n",
       "W    2400\n",
       "L    2400\n",
       "Name: count, dtype: int64"
      ]
     },
     "execution_count": 6,
     "metadata": {},
     "output_type": "execute_result"
    }
   ],
   "source": [
    "df[0].value_counts()"
   ]
  },
  {
   "cell_type": "markdown",
   "metadata": {},
   "source": [
    "**Cantidad de datos** Hay 62400 filas, cada una con 785 columnas.<br>\n",
    "**Atributos** Hay 785 atributos, 784 numericos y el primero es un caracter, el indicador de la letra (variable de interes).<br>\n",
    "**Clase de interes** Hay  26 valores distintos para la clase de interes, todos presentes en igual proporcion."
   ]
  },
  {
   "cell_type": "markdown",
   "metadata": {},
   "source": [
    "<h3>Veamos algunos ejemplos de letras</h3>"
   ]
  },
  {
   "cell_type": "code",
   "execution_count": 7,
   "metadata": {},
   "outputs": [],
   "source": [
    "def flip_rotate(image):\n",
    "    \"\"\"\n",
    "    Función que recibe un array de numpy representando una\n",
    "    imagen de 28x28. Espeja el array y lo rota en 90°.\n",
    "    \"\"\"\n",
    "    W = 28\n",
    "    H = 28\n",
    "    image = image.reshape(W, H)\n",
    "    image = np.fliplr(image)\n",
    "    image = np.rot90(image)\n",
    "    return image"
   ]
  },
  {
   "cell_type": "code",
   "execution_count": 8,
   "metadata": {},
   "outputs": [],
   "source": [
    "Es = df[df[0] == \"E\"]\n",
    "Ls = df[df[0] == \"L\"]\n",
    "Ms = df[df[0] == \"M\"]"
   ]
  },
  {
   "cell_type": "code",
   "execution_count": 9,
   "metadata": {},
   "outputs": [
    {
     "data": {
      "image/png": "[encoded data removed]",
      "text/plain": [
       "<Figure size 400x400 with 15 Axes>"
      ]
     },
     "metadata": {},
     "output_type": "display_data"
    }
   ],
   "source": [
    "# Definir los dataframes en un diccionario para facilitar el bucle\n",
    "letras = {'E': Es, 'L': Ls, 'M': Ms}\n",
    "\n",
    "fig, axs = plt.subplots(3, 5, figsize=(4, 4))  # 3 filas para las letras, 5 columnas para ejemplos de cada letra\n",
    "\n",
    "for i, (letras, data) in enumerate(letras.items()):\n",
    "    # Obtener las primeras 5 imágenes del dataframe actual\n",
    "    for j in range(5):\n",
    "        row = data.iloc[j].drop(0)\n",
    "        image_array = np.array(row).astype(np.float32)\n",
    "        image = flip_rotate(image_array)\n",
    "        axs[i, j].imshow(image, cmap='gray')\n",
    "        axs[i, j].axis('off')\n",
    "        if j == 0:\n",
    "            axs[i, j].set_title(letras)\n",
    "\n",
    "plt.tight_layout()\n",
    "plt.show()"
   ]
  },
  {
   "cell_type": "markdown",
   "metadata": {},
   "source": [
    "**Veamos las Ces**"
   ]
  },
  {
   "cell_type": "code",
   "execution_count": 10,
   "metadata": {},
   "outputs": [
    {
     "data": {
      "text/plain": [
       "<Figure size 640x480 with 0 Axes>"
      ]
     },
     "metadata": {},
     "output_type": "display_data"
    },
    {
     "data": {
      "image/png": "[encoded data removed]",
      "text/plain": [
       "<Figure size 400x400 with 16 Axes>"
      ]
     },
     "metadata": {},
     "output_type": "display_data"
    }
   ],
   "source": [
    "Cs = df[df[0] == \"C\"]\n",
    "\n",
    "plt.clf()\n",
    "fig, axs = plt.subplots(4,4, figsize=(4,4))\n",
    "\n",
    "for i in range(4):\n",
    "    for j in range(4):\n",
    "        random = np.random.randint(0,2399) #elejimos un C al azar\n",
    "        row = Cs.iloc[random].drop(0)\n",
    "        image_array = np.array(row).astype(np.float32)\n",
    "        image = flip_rotate(image_array)\n",
    "        axs[i, j].imshow(image, cmap='gray')\n",
    "        axs[i, j].axis('off')\n",
    "\n",
    "plt.tight_layout()\n",
    "plt.show()"
   ]
  },
  {
   "cell_type": "code",
   "execution_count": 11,
   "metadata": {},
   "outputs": [
    {
     "data": {
      "text/html": [
       "<div>\n",
       "<style scoped>\n",
       "    .dataframe tbody tr th:only-of-type {\n",
       "        vertical-align: middle;\n",
       "    }\n",
       "\n",
       "    .dataframe tbody tr th {\n",
       "        vertical-align: top;\n",
       "    }\n",
       "\n",
       "    .dataframe thead th {\n",
       "        text-align: right;\n",
       "    }\n",
       "</style>\n",
       "<table border=\"1\" class=\"dataframe\">\n",
       "  <thead>\n",
       "    <tr style=\"text-align: right;\">\n",
       "      <th></th>\n",
       "      <th>0</th>\n",
       "      <th>1</th>\n",
       "      <th>2</th>\n",
       "      <th>3</th>\n",
       "      <th>4</th>\n",
       "      <th>5</th>\n",
       "      <th>6</th>\n",
       "      <th>7</th>\n",
       "      <th>8</th>\n",
       "      <th>9</th>\n",
       "      <th>...</th>\n",
       "      <th>775</th>\n",
       "      <th>776</th>\n",
       "      <th>777</th>\n",
       "      <th>778</th>\n",
       "      <th>779</th>\n",
       "      <th>780</th>\n",
       "      <th>781</th>\n",
       "      <th>782</th>\n",
       "      <th>783</th>\n",
       "      <th>784</th>\n",
       "    </tr>\n",
       "  </thead>\n",
       "  <tbody>\n",
       "    <tr>\n",
       "      <th>7</th>\n",
       "      <td>C</td>\n",
       "      <td>0</td>\n",
       "      <td>0</td>\n",
       "      <td>0</td>\n",
       "      <td>0</td>\n",
       "      <td>0</td>\n",
       "      <td>0</td>\n",
       "      <td>0</td>\n",
       "      <td>0</td>\n",
       "      <td>0</td>\n",
       "      <td>...</td>\n",
       "      <td>0</td>\n",
       "      <td>0</td>\n",
       "      <td>0</td>\n",
       "      <td>0</td>\n",
       "      <td>0</td>\n",
       "      <td>0</td>\n",
       "      <td>0</td>\n",
       "      <td>0</td>\n",
       "      <td>0</td>\n",
       "      <td>0</td>\n",
       "    </tr>\n",
       "    <tr>\n",
       "      <th>63</th>\n",
       "      <td>C</td>\n",
       "      <td>0</td>\n",
       "      <td>0</td>\n",
       "      <td>0</td>\n",
       "      <td>0</td>\n",
       "      <td>0</td>\n",
       "      <td>0</td>\n",
       "      <td>0</td>\n",
       "      <td>0</td>\n",
       "      <td>0</td>\n",
       "      <td>...</td>\n",
       "      <td>0</td>\n",
       "      <td>0</td>\n",
       "      <td>0</td>\n",
       "      <td>0</td>\n",
       "      <td>0</td>\n",
       "      <td>0</td>\n",
       "      <td>0</td>\n",
       "      <td>0</td>\n",
       "      <td>0</td>\n",
       "      <td>0</td>\n",
       "    </tr>\n",
       "    <tr>\n",
       "      <th>91</th>\n",
       "      <td>C</td>\n",
       "      <td>0</td>\n",
       "      <td>0</td>\n",
       "      <td>0</td>\n",
       "      <td>0</td>\n",
       "      <td>0</td>\n",
       "      <td>0</td>\n",
       "      <td>0</td>\n",
       "      <td>0</td>\n",
       "      <td>0</td>\n",
       "      <td>...</td>\n",
       "      <td>0</td>\n",
       "      <td>0</td>\n",
       "      <td>0</td>\n",
       "      <td>0</td>\n",
       "      <td>0</td>\n",
       "      <td>0</td>\n",
       "      <td>0</td>\n",
       "      <td>0</td>\n",
       "      <td>0</td>\n",
       "      <td>0</td>\n",
       "    </tr>\n",
       "    <tr>\n",
       "      <th>97</th>\n",
       "      <td>C</td>\n",
       "      <td>0</td>\n",
       "      <td>0</td>\n",
       "      <td>0</td>\n",
       "      <td>0</td>\n",
       "      <td>0</td>\n",
       "      <td>0</td>\n",
       "      <td>0</td>\n",
       "      <td>0</td>\n",
       "      <td>0</td>\n",
       "      <td>...</td>\n",
       "      <td>0</td>\n",
       "      <td>0</td>\n",
       "      <td>0</td>\n",
       "      <td>0</td>\n",
       "      <td>0</td>\n",
       "      <td>0</td>\n",
       "      <td>0</td>\n",
       "      <td>0</td>\n",
       "      <td>0</td>\n",
       "      <td>0</td>\n",
       "    </tr>\n",
       "    <tr>\n",
       "      <th>99</th>\n",
       "      <td>C</td>\n",
       "      <td>0</td>\n",
       "      <td>0</td>\n",
       "      <td>0</td>\n",
       "      <td>0</td>\n",
       "      <td>0</td>\n",
       "      <td>0</td>\n",
       "      <td>0</td>\n",
       "      <td>0</td>\n",
       "      <td>0</td>\n",
       "      <td>...</td>\n",
       "      <td>0</td>\n",
       "      <td>0</td>\n",
       "      <td>0</td>\n",
       "      <td>0</td>\n",
       "      <td>0</td>\n",
       "      <td>0</td>\n",
       "      <td>0</td>\n",
       "      <td>0</td>\n",
       "      <td>0</td>\n",
       "      <td>0</td>\n",
       "    </tr>\n",
       "  </tbody>\n",
       "</table>\n",
       "<p>5 rows × 785 columns</p>\n",
       "</div>"
      ],
      "text/plain": [
       "   0    1    2    3    4    5    6    7    8    9    ...  775  776  777  778  \\\n",
       "7    C    0    0    0    0    0    0    0    0    0  ...    0    0    0    0   \n",
       "63   C    0    0    0    0    0    0    0    0    0  ...    0    0    0    0   \n",
       "91   C    0    0    0    0    0    0    0    0    0  ...    0    0    0    0   \n",
       "97   C    0    0    0    0    0    0    0    0    0  ...    0    0    0    0   \n",
       "99   C    0    0    0    0    0    0    0    0    0  ...    0    0    0    0   \n",
       "\n",
       "    779  780  781  782  783  784  \n",
       "7     0    0    0    0    0    0  \n",
       "63    0    0    0    0    0    0  \n",
       "91    0    0    0    0    0    0  \n",
       "97    0    0    0    0    0    0  \n",
       "99    0    0    0    0    0    0  \n",
       "\n",
       "[5 rows x 785 columns]"
      ]
     },
     "execution_count": 11,
     "metadata": {},
     "output_type": "execute_result"
    }
   ],
   "source": [
    "Cs.head()"
   ]
  },
  {
   "cell_type": "markdown",
   "metadata": {},
   "source": [
    "<h3>Ejercicio 1</h3>\n",
    "<h3>(a)</h3> Los atributos de los pixeles son la unica informacion que tenemos para predecir la letra correspondiente, por lo que son estos atributos (o columnas) fundamentales para lograr nuestra tarea. Sin embargo se puede notar que los valores correspondientes a las esquinas y bordes de la imagen son en su mayoria igual a cero. Quizas podriamos reducir la cantidad de piexeles por imagen y prescindir de esos datos.<br>\n",
    "<h3>(b, c)</h3> Las letras no son parecidas, incluso varian mucho las imagenes de una misma letra. Sin embargo cabe notar que si se comparan de a tres (como con la E, la M y la L), se podría decir que hay un par con mas similitudes entre sí. Para el ejemplo arriba visto podemos observar mayores similitudes entre la M y la E, pues ambas presentan un patron de tres rayas, la E hacia la derecha y la M los presenta hacia abajo.<br>\n",
    "<h3>(d)</h3> En este caso la exploración de datos se debe tomar por otro enfoque, no  se tratará de graficos de caja o de histogramas, ya que no servirian ningún proposito, lo importante en una base de datos de imagenes es poder verlas, ver patrones en ellas, identificar la cantidad de colores tal vez, el tamaño de cada imagen; y por sobre todas las cosas, ver que valores puede tomar cada imagen, para responder la cantidad de posibles valores distintos, y que porcentaje representa cada uno de estos en el conjunto de datos."
   ]
  },
  {
   "cell_type": "markdown",
   "metadata": {},
   "source": [
    "<hr>"
   ]
  },
  {
   "cell_type": "markdown",
   "metadata": {},
   "source": [
    "<h3>Ejercicio 2</h3>"
   ]
  },
  {
   "cell_type": "markdown",
   "metadata": {},
   "source": [
    "<h3>(a) y (b)</h3>"
   ]
  },
  {
   "cell_type": "code",
   "execution_count": 12,
   "metadata": {},
   "outputs": [],
   "source": [
    "LAs = df[df[0].isin([\"A\",\"L\"])] # item a\n",
    "\n",
    "# (item b) por analisis anteriores sabemos que estos datos estan\n",
    "# balanceados, ambas letras estan en 2400 filas"
   ]
  },
  {
   "cell_type": "markdown",
   "metadata": {},
   "source": [
    "<h3>(c)</h3>"
   ]
  },
  {
   "cell_type": "code",
   "execution_count": 13,
   "metadata": {},
   "outputs": [],
   "source": [
    "# separamos las labels\n",
    "X = LAs.drop(0, axis=1)\n",
    "y = LAs[0]"
   ]
  },
  {
   "cell_type": "code",
   "execution_count": 14,
   "metadata": {},
   "outputs": [],
   "source": [
    "# separamos los datos en conjuntos train y test\n",
    "X_train, X_test, y_train, y_test = train_test_split(X, y, random_state=42, test_size=0.3)"
   ]
  },
  {
   "cell_type": "markdown",
   "metadata": {},
   "source": [
    "<h3>(d)</h3>"
   ]
  },
  {
   "cell_type": "code",
   "execution_count": 47,
   "metadata": {},
   "outputs": [
    {
     "name": "stdout",
     "output_type": "stream",
     "text": [
      "[(array([344, 492, 414]), 0.9013888888888889), (array([467, 215, 331]), 0.8881944444444444), (array([386, 192, 277]), 0.8277777777777777), (array([687, 563, 567]), 0.7909722222222222), (array([161, 460, 314]), 0.7798611111111111), (array([103, 436, 271]), 0.7701388888888889), (array([100, 664, 131]), 0.7263888888888889), (array([700, 783, 190]), 0.6972222222222222), (array([511, 682, 476]), 0.6847222222222222), (array([662, 309, 770]), 0.6736111111111112), (array([459,  88, 373]), 0.625), (array([ 22, 253, 748]), 0.4951388888888889), (array([ 21, 615, 122]), 0.4930555555555556), (array([561, 475,  59]), 0.4895833333333333), (array([107,  72, 701]), 0.4701388888888889)]\n"
     ]
    }
   ],
   "source": [
    "resultados3=[]\n",
    "\n",
    "np.random.seed(42)\n",
    "for i in range(15):   # pruebo con 15 combinaciones distintas\n",
    "    combinacion = np.random.randint(1, 785, size=3)    # tomo de forma random 3 de las columnas \n",
    "    X_train_subset = X_train[combinacion]     # asigno un subset donde tomo del X_train las columnas random\n",
    "    X_test_subset = X_test[combinacion]\n",
    "    knn = KNeighborsClassifier(n_neighbors=3)\n",
    "    knn.fit(X_train_subset,y_train) \n",
    "    y_pred = knn.predict(X_test_subset)\n",
    "    resultados3.append((combinacion,metrics.accuracy_score(y_test, y_pred)))\n",
    "\n",
    "resultados3 = sorted(resultados3, key=lambda x: x[1], reverse=True)\n",
    "\n",
    "print(resultados3)"
   ]
  },
  {
   "cell_type": "markdown",
   "metadata": {},
   "source": [
    "344, 492, 414"
   ]
  },
  {
   "cell_type": "markdown",
   "metadata": {},
   "source": [
    "Notamos que las columnas del medio nos dan un buen resultado, como es de esperarse.<br>\n",
    "Probemos eligiendolas manualmente."
   ]
  },
  {
   "cell_type": "code",
   "execution_count": 16,
   "metadata": {},
   "outputs": [],
   "source": [
    "combinacion = [391,392,393]    # tomo las 3 columnas del medio\n",
    "X_train_subset = X_train[combinacion]     # asigno un subset donde tomo del X_train las columnas seleccionadas\n",
    "X_test_subset = X_test[combinacion]\n",
    "knn = KNeighborsClassifier(n_neighbors=3)\n",
    "knn.fit(X_train_subset,y_train) \n",
    "y_pred = knn.predict(X_test_subset)"
   ]
  },
  {
   "cell_type": "code",
   "execution_count": 17,
   "metadata": {},
   "outputs": [
    {
     "name": "stdout",
     "output_type": "stream",
     "text": [
      "0.5305555555555556\n"
     ]
    }
   ],
   "source": [
    "print(metrics.accuracy_score(y_test, y_pred))"
   ]
  },
  {
   "cell_type": "markdown",
   "metadata": {},
   "source": [
    "Interesante, me dio muy mal la métrica, lo puedo interpretar como que las 3 columnas son muy redundantes en informacion, por lo reduzco la cantidad de datos significativos con los que el modelo puede predecir."
   ]
  },
  {
   "cell_type": "markdown",
   "metadata": {},
   "source": [
    "Veamos en un gráfico la idea."
   ]
  },
  {
   "cell_type": "code",
   "execution_count": 18,
   "metadata": {},
   "outputs": [
    {
     "data": {
      "text/plain": [
       "<Figure size 640x480 with 0 Axes>"
      ]
     },
     "metadata": {},
     "output_type": "display_data"
    },
    {
     "data": {
      "image/png": "[encoded data removed]",
      "text/plain": [
       "<Figure size 400x400 with 16 Axes>"
      ]
     },
     "metadata": {},
     "output_type": "display_data"
    }
   ],
   "source": [
    "plt.clf()\n",
    "\n",
    "np.random.seed(42)\n",
    "random = np.random.randint(0,2399, size=16)\n",
    "fig, axs = plt.subplots(4,4,figsize=(4,4))\n",
    "\n",
    "for j in range(4):\n",
    "    for i, letra in enumerate([\"A\",\"L\",\"A\",\"L\"]):\n",
    "        row = df[df[0] == letra].iloc[random[i + j + 2]].drop(0)\n",
    "        image_array = np.array(row).astype(np.float32)\n",
    "        image = flip_rotate(image_array)\n",
    "        axs[j,i].imshow(image, cmap='gray')\n",
    "        axs[j,i].scatter([18,19,20], [19,19,19],color='red') # señalamos 3 atributos cercanos\n",
    "        axs[j,i].axis('off')"
   ]
  },
  {
   "cell_type": "markdown",
   "metadata": {},
   "source": [
    "Se puede ver que 3 puntos cercanos no nos dan tanta informacion, ambas letras presentan ejemplos de puntos similares, donde hay casos que son todos blancos, o todos negros, o donde hay ambos colores; pero la proporcion de estos casos no varía mucho entre estos caracteres, por lo que dificulta la obtencion de un buen resultado usando el algoritmo de KNN."
   ]
  },
  {
   "cell_type": "markdown",
   "metadata": {},
   "source": [
    "**Veamos ahora que pasa con otra cantidad de atributos**"
   ]
  },
  {
   "cell_type": "code",
   "execution_count": 50,
   "metadata": {},
   "outputs": [
    {
     "name": "stdout",
     "output_type": "stream",
     "text": [
      "[(array([764, 188, 380, 493,  41, 157,  15,  65, 521]), 0.9375), (array([662, 309, 770, 344, 492, 414, 386, 192, 277]), 0.9298611111111111), (array([135, 201, 780,  33,  48, 503, 407, 574, 728]), 0.9284722222222223), (array([467, 215, 331, 459,  88, 373, 100, 664, 131]), 0.9083333333333333), (array([244, 505, 131, 485, 647,  21, 167, 274, 388]), 0.8986111111111111), (array([601, 316,  14, 242, 777, 346, 565, 340,  92]), 0.8916666666666667), (array([730, 556, 162, 202, 270, 271, 456, 462, 727]), 0.8659722222222223), (array([511, 682, 476, 700, 783, 190, 687, 563, 567]), 0.8138888888888889), (array([103, 436, 271, 107,  72, 701,  21, 615, 122]), 0.8125), (array([344, 129, 648, 472,  63, 139, 499, 593, 392]), 0.7979166666666667), (array([388,   2, 390, 566, 106, 772, 477, 703, 402]), 0.7965277777777777), (array([252, 702, 296, 725, 720, 749, 338,  53, 217]), 0.7895833333333333), (array([675, 419, 289, 379, 773, 490, 231,  41,  28]), 0.7888888888888889), (array([161, 460, 314,  22, 253, 748, 561, 475,  59]), 0.7576388888888889), (array([367, 455, 428, 509, 776,  35, 206,  81, 562]), 0.7145833333333333)]\n"
     ]
    }
   ],
   "source": [
    "# probamos con 9 atributos\n",
    "\n",
    "resultados9=[]\n",
    "np.random.seed(42)\n",
    "for i in range(15):   # pruebo con 15 combinaciones distintas\n",
    "    combinacion = np.random.randint(1, 785, size=9)    # tomo de forma random 9 de las columnas \n",
    "    X_train_subset = X_train[combinacion]     # asigno un subset donde tomo del X_train las columnas random\n",
    "    X_test_subset = X_test[combinacion]\n",
    "    knn = KNeighborsClassifier(n_neighbors=3)\n",
    "    knn.fit(X_train_subset,y_train) \n",
    "    y_pred = knn.predict(X_test_subset)\n",
    "    resultados9.append((combinacion,metrics.accuracy_score(y_test, y_pred)))\n",
    "\n",
    "resultados9 = sorted(resultados9, key=lambda x: x[1], reverse=True)\n",
    "\n",
    "print(resultados9)"
   ]
  },
  {
   "cell_type": "markdown",
   "metadata": {},
   "source": [
    "764, 188, 380, 493,  41, 157,  15,  65, 521"
   ]
  },
  {
   "cell_type": "markdown",
   "metadata": {},
   "source": [
    "Hubo una mejora, de un 1%. Veamos que pasa si aumentamos la cantidad de atributos. Probemos con 21."
   ]
  },
  {
   "cell_type": "code",
   "execution_count": 56,
   "metadata": {},
   "outputs": [
    {
     "name": "stdout",
     "output_type": "stream",
     "text": [
      "[(array([407, 574, 728,  99, 684, 726, 547, 739, 613, 462, 643, 769]), 0.9708333333333333), (array([ 36, 525, 160, 699, 243,  86, 578, 682, 557, 574, 646,  28]), 0.9506944444444444), (array([  5, 218, 503, 767, 398, 393, 207,  15, 554, 461, 691, 575]), 0.9416666666666667), (array([338,  53, 217, 764, 188, 380, 493,  41, 157,  15,  65, 521]), 0.9340277777777778), (array([103, 436, 271, 107,  72, 701,  21, 615, 122, 467, 215, 331]), 0.9256944444444445)]\n"
     ]
    }
   ],
   "source": [
    "resultados12=[]\n",
    "np.random.seed(42)\n",
    "for i in range(15):   # pruebo con 15 combinaciones distintas\n",
    "    combinacion = np.random.randint(1, 785, size=12)    # tomo de forma random 21 de las columnas \n",
    "    X_train_subset = X_train[combinacion]     # asigno un subset donde tomo del X_train las columnas random\n",
    "    X_test_subset = X_test[combinacion]\n",
    "    knn = KNeighborsClassifier(n_neighbors=3)\n",
    "    knn.fit(X_train_subset,y_train) \n",
    "    y_pred = knn.predict(X_test_subset)\n",
    "    resultados12.append((combinacion,metrics.accuracy_score(y_test, y_pred)))\n",
    "\n",
    "resultados12 = sorted(resultados12, key=lambda x: x[1], reverse=True)\n",
    "\n",
    "print(resultados12[:5]) # imprimo solo los primeros 5, sino es muy largo"
   ]
  },
  {
   "cell_type": "code",
   "execution_count": 57,
   "metadata": {},
   "outputs": [
    {
     "name": "stdout",
     "output_type": "stream",
     "text": [
      "\n",
      "    Con 3 atributos\n",
      "\n",
      "         Exactitud máxima: 0.901.\n",
      "\n",
      "         Exactitud media: 0.688.\n",
      "\n",
      "\n",
      "    Con 9 atributos\n",
      "\n",
      "         Exactitud máxima: 0.938.\n",
      "\n",
      "         Exactitud media: 0.842.\n",
      "\n",
      "\n",
      "    Con 12 atributos\n",
      "\n",
      "         Exactitud máxima: 0.971.\n",
      "\n",
      "         Exactitud media: 0.888.\n",
      "\n"
     ]
    }
   ],
   "source": [
    "# veamos un poco de informacion sobre los resultados obtenidos\n",
    "print(f\"\"\"\n",
    "    Con 3 atributos\\n\n",
    "         Exactitud máxima: {resultados3[0][1]:.3}.\\n\n",
    "         Exactitud media: {np.mean([exactitud[1] for exactitud in resultados3]):.3}.\\n\\n\n",
    "    Con 9 atributos\\n\n",
    "         Exactitud máxima: {resultados9[0][1]:.3}.\\n\n",
    "         Exactitud media: {np.mean([exactitud[1] for exactitud in resultados9]):.3}.\\n\\n\n",
    "    Con 12 atributos\\n\n",
    "         Exactitud máxima: {resultados21[0][1]:.3}.\\n\n",
    "         Exactitud media: {np.mean([exactitud[1] for exactitud in resultados12]):.3}.\n",
    "\"\"\")"
   ]
  },
  {
   "cell_type": "markdown",
   "metadata": {},
   "source": [
    "Observamos que la mejor marca no aumenta significativamente, sin embargo, en promedio los resultados para 15 experimentos son mucho mejores."
   ]
  },
  {
   "cell_type": "markdown",
   "metadata": {},
   "source": [
    "Tratemos de hacer un gráfico para enclarecer esta idea."
   ]
  },
  {
   "cell_type": "markdown",
   "metadata": {},
   "source": [
    "<h3>(e)</h3>"
   ]
  },
  {
   "cell_type": "markdown",
   "metadata": {},
   "source": [
    "La idea ahora es comparar los modelos de KNN, perov variando tambien los numeros de vecinos"
   ]
  },
  {
   "cell_type": "markdown",
   "metadata": {},
   "source": [
    "Nos va a facilitar la tarea modularizar el codigo en funciones que tomen lo que ya hemos hecho hasta ahora. Asi que primero hacemos eso para que luego sea mas sencillo entrenar modelos con diferentes parametros."
   ]
  },
  {
   "cell_type": "markdown",
   "metadata": {},
   "source": [
    "Elegimos usar 9 atributos, ya que la mayor exactitud no muestra diferencias en comparacion con elegir 21. De esta manera ahorramos tiempo, espacio y energia sin comprometer los resultados."
   ]
  },
  {
   "cell_type": "code",
   "execution_count": 59,
   "metadata": {},
   "outputs": [],
   "source": [
    "def kneigh(k):\n",
    "    \"\"\"\n",
    "    Dado un k, entrena 15 modelos de kNN\n",
    "    usando en cada iteración 12 atributos distintos.\n",
    "    \"\"\"\n",
    "    resultados=[]\n",
    "    np.random.seed(42)\n",
    "    for i in range(15):   # pruebo con 15 combinaciones distintas\n",
    "        combinacion = np.random.randint(1, 785, size=12)    # tomo de forma random 12 de las columnas \n",
    "        X_train_subset = X_train[combinacion]     # asigno un subset donde tomo del X_train las columnas random\n",
    "        X_test_subset = X_test[combinacion]\n",
    "        knn = KNeighborsClassifier(n_neighbors=k)\n",
    "        knn.fit(X_train_subset,y_train) \n",
    "        y_pred = knn.predict(X_test_subset)\n",
    "        resultados.append((combinacion,metrics.accuracy_score(y_test, y_pred)))\n",
    "\n",
    "    # ordenamos los resultados obtenidos segun la exactitud\n",
    "    # para así poder acceder a los atributos con mejor resultado\n",
    "    # con tan solo elegir el primer elemento de la lista.\n",
    "    resultados = sorted(resultados, key=lambda x: x[1], reverse=True)\n",
    "    return resultados[0] \n"
   ]
  },
  {
   "cell_type": "markdown",
   "metadata": {},
   "source": [
    "Probamos distintos valores de k."
   ]
  },
  {
   "cell_type": "code",
   "execution_count": 60,
   "metadata": {},
   "outputs": [],
   "source": [
    "ks = [3,6,9,12,15,20,25,32]\n",
    "\n",
    "resultados_ks = {} # guardamos los datos en un dicc.\n",
    "\n",
    "for k in ks:\n",
    "    resultado = kneigh(k)\n",
    "    resultados_ks[k] = resultado"
   ]
  },
  {
   "cell_type": "code",
   "execution_count": 61,
   "metadata": {},
   "outputs": [
    {
     "name": "stdout",
     "output_type": "stream",
     "text": [
      "{3: (array([407, 574, 728,  99, 684, 726, 547, 739, 613, 462, 643, 769]), 0.9708333333333333), 6: (array([407, 574, 728,  99, 684, 726, 547, 739, 613, 462, 643, 769]), 0.9722222222222222), 9: (array([407, 574, 728,  99, 684, 726, 547, 739, 613, 462, 643, 769]), 0.9729166666666667), 12: (array([407, 574, 728,  99, 684, 726, 547, 739, 613, 462, 643, 769]), 0.9729166666666667), 15: (array([407, 574, 728,  99, 684, 726, 547, 739, 613, 462, 643, 769]), 0.9715277777777778), 20: (array([407, 574, 728,  99, 684, 726, 547, 739, 613, 462, 643, 769]), 0.96875), 25: (array([407, 574, 728,  99, 684, 726, 547, 739, 613, 462, 643, 769]), 0.9652777777777778), 32: (array([407, 574, 728,  99, 684, 726, 547, 739, 613, 462, 643, 769]), 0.9645833333333333)}\n"
     ]
    }
   ],
   "source": [
    "print(resultados_ks)"
   ]
  },
  {
   "cell_type": "markdown",
   "metadata": {},
   "source": [
    "Observamos que el mejor resultado se obtiene con 9 0 12, y que ademas no varía mucho la exactitud al cambiar el k, las exactitudes tienen un rango entre 95 y 97.3"
   ]
  },
  {
   "cell_type": "markdown",
   "metadata": {},
   "source": [
    "Como la mejor exactitud lo dio el menor k de todos, probamos con k = 1 y k = 2, tal vez veamos alguna mejora."
   ]
  },
  {
   "cell_type": "code",
   "execution_count": 25,
   "metadata": {},
   "outputs": [
    {
     "name": "stdout",
     "output_type": "stream",
     "text": [
      "(array([521,  99,  20, 753, 573, 490, 419, 690,  62]), 0.9527777777777777)\n"
     ]
    }
   ],
   "source": [
    "print(kneigh(1)) # k = 1"
   ]
  },
  {
   "cell_type": "code",
   "execution_count": 26,
   "metadata": {},
   "outputs": [
    {
     "name": "stdout",
     "output_type": "stream",
     "text": [
      "(array([195, 738, 332, 170, 521, 463,  40, 537, 261]), 0.9284722222222223)\n"
     ]
    }
   ],
   "source": [
    "print(kneigh(2)) # k = 2"
   ]
  },
  {
   "cell_type": "markdown",
   "metadata": {},
   "source": [
    "Ambos dieron mas bajo que k = 3. Por lo que nos terminamos por decidir que k = 3 es la mejor opción."
   ]
  },
  {
   "cell_type": "markdown",
   "metadata": {},
   "source": [
    "**Concluimos por lo tanto que:**"
   ]
  },
  {
   "cell_type": "code",
   "execution_count": 63,
   "metadata": {},
   "outputs": [
    {
     "name": "stdout",
     "output_type": "stream",
     "text": [
      "\n",
      "    El mejor modelo de kNN (en exactitud):\n",
      "\n",
      "         - Usa k = 9\n",
      "         - Tiene en cuenta 12 atributos: [407 574 728  99 684 726 547 739 613 462 643 769]\n",
      "         - Tiene exactitud (en el conjunto de test): 0.973 \n",
      "\n"
     ]
    }
   ],
   "source": [
    "print(f\"\"\"\n",
    "    El mejor modelo de kNN (en exactitud):\\n\n",
    "         - Usa k = 9\n",
    "         - Tiene en cuenta 12 atributos: {resultados_ks[9][0]}\n",
    "         - Tiene exactitud (en el conjunto de test): {resultados_ks[9][1]:.3} \n",
    "\"\"\")"
   ]
  },
  {
   "cell_type": "markdown",
   "metadata": {},
   "source": [
    "<hr>"
   ]
  },
  {
   "cell_type": "markdown",
   "metadata": {},
   "source": [
    "<h3>Ejercicio 3</h3>"
   ]
  },
  {
   "cell_type": "markdown",
   "metadata": {},
   "source": [
    "<h3>(a)</h3>"
   ]
  },
  {
   "cell_type": "code",
   "execution_count": 28,
   "metadata": {},
   "outputs": [],
   "source": [
    "# separamos las vocales\n",
    "df_vocales = df[df[0].isin([\"A\",\"E\",\"I\",\"O\",\"U\"])]\n",
    "\n",
    "# separamos atributos de etiquetas\n",
    "X_vocales = df_vocales.drop(0,axis=\"columns\")\n",
    "y_vocales = df_vocales[0]\n",
    "\n",
    "# separamos los datos en train y en test\n",
    "X_voc_train, X_voc_test, y_voc_train, y_voc_test = train_test_split(X_vocales, y_vocales, random_state=42, test_size=0.3)"
   ]
  },
  {
   "cell_type": "markdown",
   "metadata": {},
   "source": [
    "<h3>(b)</h3>"
   ]
  },
  {
   "cell_type": "code",
   "execution_count": 29,
   "metadata": {},
   "outputs": [],
   "source": [
    "# definimos una funcion para entrenar un modelo de arbol de decision\n",
    "def accuracy_arbol(X, Y, testX, testY, hmax, criterio=\"gini\"):\n",
    "    arbol = tree.DecisionTreeClassifier(max_depth=hmax, criterion=criterio)\n",
    "    arbol.fit(X, Y)\n",
    "\n",
    "    pred = arbol.predict(testX)\n",
    "    accuracy = np.mean([pred == testY])\n",
    "    return accuracy"
   ]
  },
  {
   "cell_type": "code",
   "execution_count": 30,
   "metadata": {},
   "outputs": [
    {
     "name": "stdout",
     "output_type": "stream",
     "text": [
      "Para 1 de profundid, la exactitud fue de 0.38\n",
      "Para 3 de profundid, la exactitud fue de 0.7\n",
      "Para 5 de profundid, la exactitud fue de 0.88\n",
      "Para 7 de profundid, la exactitud fue de 0.94\n",
      "Para 9 de profundid, la exactitud fue de 0.98\n",
      "Para 11 de profundid, la exactitud fue de 0.99\n"
     ]
    }
   ],
   "source": [
    "# probamos distintas profundidades\n",
    "for h in range(1,12,2):\n",
    "    acc_arbol = accuracy_arbol(X=X_voc_train,Y=y_voc_train,testX=X_voc_train,testY=y_voc_train,hmax=h)\n",
    "    print(f'Para {h} de profundid, la exactitud fue de {acc_arbol:.2}')"
   ]
  },
  {
   "cell_type": "markdown",
   "metadata": {},
   "source": [
    "Vemos que a partir de 11 la exactitud deja de mejorar, no se puede mejorar mas, estamos arriesgando a un problema de overfitting."
   ]
  },
  {
   "cell_type": "markdown",
   "metadata": {},
   "source": [
    "<h3>(c)</h3>"
   ]
  },
  {
   "cell_type": "markdown",
   "metadata": {},
   "source": [
    "**Ahora hacemos validacion cruzada con k-folding**<br>\n",
    "De esta manera tratamos de encontrar el mejor modelo."
   ]
  },
  {
   "cell_type": "markdown",
   "metadata": {},
   "source": [
    "Encontramos conveniente usar un DataFrame para registar los resultados de los experimentos."
   ]
  },
  {
   "cell_type": "code",
   "execution_count": 79,
   "metadata": {},
   "outputs": [],
   "source": [
    "# Creamos un DataFrame para registrar altura, criterio,y promedio de exactitud de cada arbol.\n",
    "data = {\"hmax\":[],\"criterio\":[],\"promedio_exactitud\":[]}\n",
    "registro = pd.DataFrame(data=data)"
   ]
  },
  {
   "cell_type": "markdown",
   "metadata": {},
   "source": [
    "Ahora creamos una funcion para evaluar los arboles según su altura."
   ]
  },
  {
   "cell_type": "code",
   "execution_count": 80,
   "metadata": {},
   "outputs": [],
   "source": [
    "def matriz_kfold(criterio):\n",
    "    \"\"\"\n",
    "    Devuelve el promedio de la exactitud  a travez de k-folds\n",
    "    para cada altura de arbol de clasificacion.\n",
    "    \"\"\"\n",
    "    alturas = [1,2,3,5,10,15]\n",
    "    nsplits = 5\n",
    "    kf = KFold(n_splits=nsplits, shuffle=True, random_state=42)\n",
    "\n",
    "    resultados = np.zeros((nsplits, len(alturas)))\n",
    "\n",
    "    for i, (train_index, test_index) in enumerate(kf.split(X_voc_train)):\n",
    "\n",
    "        kf_X_train, kf_X_test = X_voc_train.iloc[train_index], X_voc_train.iloc[test_index]\n",
    "        kf_y_train, kf_y_test = y_voc_train.iloc[train_index], y_voc_train.iloc[test_index]\n",
    "        \n",
    "        for j, hmax in enumerate(alturas):\n",
    "            score = accuracy_arbol(hmax=hmax,X=kf_X_train,Y=kf_y_train,testX=kf_X_test,testY=kf_y_test,criterio=criterio)\n",
    "            resultados[i, j] = score\n",
    "\n",
    "    # para saber a que altura corresponde el puntaje lo devolvemos en tuplas\n",
    "    scores_promedio = zip(alturas,resultados.mean(axis = 0))\n",
    "    \n",
    "    return scores_promedio\n"
   ]
  },
  {
   "cell_type": "markdown",
   "metadata": {},
   "source": [
    "Nos queda correr el experimento una vez por cada **criterio**, registrando todo en cada iteracion."
   ]
  },
  {
   "cell_type": "code",
   "execution_count": 81,
   "metadata": {},
   "outputs": [],
   "source": [
    "criterios = [\"gini\", \"entropy\", \"log_loss\"] # lista para iterar y realizar los experimentos.\n",
    "\n",
    "for criterio in criterios:\n",
    "    scores = matriz_kfold(criterio=criterio)\n",
    "\n",
    "    # agregamos los resultados al dataframe\n",
    "    for h, score in scores:\n",
    "        # agrego los resultados en una nueva fila\n",
    "        registro.loc[len(registro.index)] = [h, criterio, score]\n",
    "\n",
    "# lo ordenamos por exactitud\n",
    "registro.sort_values(by=\"promedio_exactitud\", ascending=False, inplace=True, ignore_index = True)"
   ]
  },
  {
   "cell_type": "code",
   "execution_count": 82,
   "metadata": {},
   "outputs": [
    {
     "data": {
      "text/html": [
       "<div>\n",
       "<style scoped>\n",
       "    .dataframe tbody tr th:only-of-type {\n",
       "        vertical-align: middle;\n",
       "    }\n",
       "\n",
       "    .dataframe tbody tr th {\n",
       "        vertical-align: top;\n",
       "    }\n",
       "\n",
       "    .dataframe thead th {\n",
       "        text-align: right;\n",
       "    }\n",
       "</style>\n",
       "<table border=\"1\" class=\"dataframe\">\n",
       "  <thead>\n",
       "    <tr style=\"text-align: right;\">\n",
       "      <th></th>\n",
       "      <th>hmax</th>\n",
       "      <th>criterio</th>\n",
       "      <th>promedio_exactitud</th>\n",
       "    </tr>\n",
       "  </thead>\n",
       "  <tbody>\n",
       "    <tr>\n",
       "      <th>0</th>\n",
       "      <td>10</td>\n",
       "      <td>entropy</td>\n",
       "      <td>0.919524</td>\n",
       "    </tr>\n",
       "    <tr>\n",
       "      <th>1</th>\n",
       "      <td>15</td>\n",
       "      <td>entropy</td>\n",
       "      <td>0.918929</td>\n",
       "    </tr>\n",
       "    <tr>\n",
       "      <th>2</th>\n",
       "      <td>10</td>\n",
       "      <td>log_loss</td>\n",
       "      <td>0.918095</td>\n",
       "    </tr>\n",
       "    <tr>\n",
       "      <th>3</th>\n",
       "      <td>10</td>\n",
       "      <td>gini</td>\n",
       "      <td>0.916905</td>\n",
       "    </tr>\n",
       "    <tr>\n",
       "      <th>4</th>\n",
       "      <td>15</td>\n",
       "      <td>log_loss</td>\n",
       "      <td>0.916667</td>\n",
       "    </tr>\n",
       "  </tbody>\n",
       "</table>\n",
       "</div>"
      ],
      "text/plain": [
       "   hmax  criterio  promedio_exactitud\n",
       "0    10   entropy            0.919524\n",
       "1    15   entropy            0.918929\n",
       "2    10  log_loss            0.918095\n",
       "3    10      gini            0.916905\n",
       "4    15  log_loss            0.916667"
      ]
     },
     "execution_count": 82,
     "metadata": {},
     "output_type": "execute_result"
    }
   ],
   "source": [
    "registro.head()"
   ]
  },
  {
   "cell_type": "markdown",
   "metadata": {},
   "source": [
    "Vemos entonces que en el experimento de k-fold el mejor resultado lo obtenemos con arboles:\n",
    " - De profundidad maxima 10 (empata con 15)\n",
    " - Con criterio de 'entropy'\n",
    " - Obtiene un 92% de exactitud."
   ]
  },
  {
   "cell_type": "markdown",
   "metadata": {},
   "source": [
    "<h3>(d)</h3>"
   ]
  },
  {
   "cell_type": "code",
   "execution_count": 67,
   "metadata": {},
   "outputs": [
    {
     "name": "stdout",
     "output_type": "stream",
     "text": [
      "La exactitud (sobre el conjunto de test) del modelo seleccionado es: 0.92\n"
     ]
    }
   ],
   "source": [
    "# entrenamos el modelo elegido en el item (c), esta vez con todo el df de entrenamiento\n",
    "resultado_final = accuracy_arbol(X=X_voc_train\n",
    "                                ,Y=y_voc_train\n",
    "                                ,testX=X_voc_test\n",
    "                                ,testY=y_voc_test\n",
    "                                ,hmax=10\n",
    "                                ,criterio=\"entropy\")\n",
    "\n",
    "print(f\"La exactitud (sobre el conjunto de test) del modelo seleccionado es: {resultado_final:.2}\")"
   ]
  },
  {
   "cell_type": "markdown",
   "metadata": {},
   "source": [
    "**Obtenemos una exactitud del 92%** como se esperaba por los resultados del k-fold."
   ]
  },
  {
   "cell_type": "markdown",
   "metadata": {},
   "source": [
    "Ahora analicemos los errores que comete el modelo mediante una matriz de confusion."
   ]
  },
  {
   "cell_type": "code",
   "execution_count": 68,
   "metadata": {},
   "outputs": [],
   "source": [
    "def matriz_confusion(pred, actual):\n",
    "    señalador = {\"A\":0,\"E\":1,\"I\":2,\"O\":3,\"U\":4}\n",
    "    matriz = np.zeros((5,5))\n",
    "\n",
    "    for i in range(len(pred)):\n",
    "        matriz[señalador[pred[i]], señalador[actual[i]]] += 1\n",
    "\n",
    "    return matriz\n"
   ]
  },
  {
   "cell_type": "code",
   "execution_count": 39,
   "metadata": {},
   "outputs": [],
   "source": [
    "arbol_elegido = tree.DecisionTreeClassifier(max_depth=10,criterion=\"entropy\")\n",
    "arbol_elegido.fit(X_voc_train, y_voc_train)\n",
    "pred = arbol_elegido.predict(X_voc_test)\n",
    "matrix = matriz_confusion(pred, list(y_voc_test)) # lo paso como lista para sacar los indices del split"
   ]
  },
  {
   "cell_type": "code",
   "execution_count": 69,
   "metadata": {},
   "outputs": [
    {
     "data": {
      "text/plain": [
       "array([[630.,  29.,   7.,  17.,  24.],\n",
       "       [ 27., 636.,  16.,  13.,   5.],\n",
       "       [ 10.,  13., 711.,   0.,  12.],\n",
       "       [ 16.,   8.,   0., 670.,  17.],\n",
       "       [ 31.,  11.,   5.,  18., 674.]])"
      ]
     },
     "execution_count": 69,
     "metadata": {},
     "output_type": "execute_result"
    }
   ],
   "source": [
    "matrix"
   ]
  },
  {
   "cell_type": "code",
   "execution_count": 70,
   "metadata": {},
   "outputs": [
    {
     "data": {
      "text/plain": [
       "Text(50.722222222222214, 0.5, 'Valores predichos')"
      ]
     },
     "execution_count": 70,
     "metadata": {},
     "output_type": "execute_result"
    },
    {
     "data": {
      "image/png": "[encoded data removed]",
      "text/plain": [
       "<Figure size 640x480 with 2 Axes>"
      ]
     },
     "metadata": {},
     "output_type": "display_data"
    }
   ],
   "source": [
    "sns.heatmap(matrix, annot=True, fmt=\".1f\", xticklabels=[\"A\",\"E\",\"I\",\"O\",\"U\"],yticklabels=[\"A\",\"E\",\"I\",\"O\",\"U\"])\n",
    "plt.xlabel(\"Valores verdaderos\")\n",
    "plt.ylabel(\"Valores predichos\")"
   ]
  }
 ],
 "metadata": {
  "kernelspec": {
   "display_name": "venv",
   "language": "python",
   "name": "python3"
  },
  "language_info": {
   "codemirror_mode": {
    "name": "ipython",
    "version": 3
   },
   "file_extension": ".py",
   "mimetype": "text/x-python",
   "name": "python",
   "nbconvert_exporter": "python",
   "pygments_lexer": "ipython3",
   "version": "3.11.0"
  }
 },
 "nbformat": 4,
 "nbformat_minor": 2
}
